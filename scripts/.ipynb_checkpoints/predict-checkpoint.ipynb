{
 "cells": [
  {
   "cell_type": "markdown",
   "id": "c55e6b84",
   "metadata": {},
   "source": [
    "# 競艇予想AI"
   ]
  },
  {
   "cell_type": "markdown",
   "id": "287cb7c2",
   "metadata": {},
   "source": [
    "### pipとかは自分でしてね"
   ]
  },
  {
   "cell_type": "code",
   "execution_count": 1,
   "id": "d7048033",
   "metadata": {},
   "outputs": [],
   "source": [
    "from machinelarning import BoatraceML\n",
    "import joblib"
   ]
  },
  {
   "cell_type": "code",
   "execution_count": 2,
   "id": "b1e82604",
   "metadata": {},
   "outputs": [],
   "source": [
    "# 自分のパスを通す\n",
    "folder = \"C:\\\\Users\\\\msy-t\\\\boatrace-ai\""
   ]
  },
  {
   "cell_type": "code",
   "execution_count": null,
   "id": "e4db46e3",
   "metadata": {},
   "outputs": [],
   "source": [
    "boatrace_ml = BoatraceML(folder+\"\\\\data\")\n",
    "#test_df,model_one,model_defeat_one,model_twos,mean,std = boatrace_ml.run_pipeline()    \n",
    "\n",
    "# モデルを保存する\n",
    "#test_df.to_csv(\"folder+\"\\\\data\\\\agg_results\\\\test_df.csv\", index=False, encoding=\"shift_jis\")\n",
    "#os.makedirs('saved_models', exist_ok=True)\n",
    "#joblib.dump(model_one, folder+'\\\\saved_models\\\\model_one.joblib')\n",
    "#joblib.dump(model_defeat_one,folder+'\\\\saved_models\\\\model_defeat_one.joblib')\n",
    "#joblib.dump(model_twos, folder+'\\\\saved_models\\\\model_twos_dict.pkl')\n",
    "#joblib.dump({'mean': mean, 'std': std}, folder+'\\\\saved_models\\\\scaling_params.pkl')\n",
    "\n",
    "# テスト\n",
    "#boatrace_ml.run_pipeline_ellipsis()\n",
    "\n",
    "# モデルの読み込み\n",
    "model_one = joblib.load(folder+'\\\\saved_models\\\\model_one.joblib')\n",
    "model_defeat_one = joblib.load(folder+'\\\\saved_models\\\\model_defeat_one.joblib')\n",
    "model_twos = joblib.load(folder+'\\\\saved_models\\\\model_twos_dict.pkl')\n",
    "scaling_params = joblib.load(folder+'\\\\saved_models\\\\scaling_params.pkl')\n",
    "mean = scaling_params['mean']\n",
    "std = scaling_params['std']"
   ]
  },
  {
   "cell_type": "code",
   "execution_count": null,
   "id": "3674b1f0",
   "metadata": {},
   "outputs": [],
   "source": [
    "input_str = input(\"展示タイムを入力(スペースで区切る): \")#例　6.86  6.92  6.85  6.81  6.93  6.84\n",
    "numbers = list(map(float, input_str.split()))\n",
    "Exhibition_time = {1: numbers[0],2: numbers[1],3: numbers[2],4: numbers[3],5: numbers[4],6: numbers[5]}\n",
    "# かけたいレース情報\n",
    "target_date = \"2024-04-20\"\n",
    "place='戸田'\n",
    "race_no=6\n",
    "\n",
    "boatrace_ml.run_pipeline_jissen(model_one,model_defeat_one,model_twos,mean,std,target_date, place, race_no, Exhibition_time=Exhibition_time)"
   ]
  }
 ],
 "metadata": {
  "kernelspec": {
   "display_name": "base",
   "language": "python",
   "name": "python3"
  },
  "language_info": {
   "codemirror_mode": {
    "name": "ipython",
    "version": 3
   },
   "file_extension": ".py",
   "mimetype": "text/x-python",
   "name": "python",
   "nbconvert_exporter": "python",
   "pygments_lexer": "ipython3",
   "version": "3.12.7"
  }
 },
 "nbformat": 4,
 "nbformat_minor": 5
}
