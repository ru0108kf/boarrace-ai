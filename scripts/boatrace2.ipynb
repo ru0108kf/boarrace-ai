{
 "cells": [
  {
   "cell_type": "code",
   "execution_count": 1,
   "id": "b3d68e2a-ef59-4de2-814e-71f5069e5c30",
   "metadata": {},
   "outputs": [
    {
     "name": "stdout",
     "output_type": "stream",
     "text": [
      "ダウンロードフォルダ: ../data\\B_lzh\n",
      "解凍フォルダ: ../data\\B_txt\n",
      "使用するURL: https://www1.mbrace.or.jp/od2/B/dindex.html\n",
      "エラーが発生しました: Message: no such window: target window already closed\n",
      "from unknown error: web view not found\n",
      "  (Session info: chrome=134.0.6998.167)\n",
      "Stacktrace:\n",
      "\tGetHandleVerifier [0x0084C7F3+24435]\n",
      "\t(No symbol) [0x007D2074]\n",
      "\t(No symbol) [0x006A06E3]\n",
      "\t(No symbol) [0x0067F83E]\n",
      "\t(No symbol) [0x0071455E]\n",
      "\t(No symbol) [0x0072EB19]\n",
      "\t(No symbol) [0x0070D5B6]\n",
      "\t(No symbol) [0x006DC54F]\n",
      "\t(No symbol) [0x006DD894]\n",
      "\tGetHandleVerifier [0x00B570A3+3213347]\n",
      "\tGetHandleVerifier [0x00B6B0C9+3295305]\n",
      "\tGetHandleVerifier [0x00B6558C+3271948]\n",
      "\tGetHandleVerifier [0x008E7360+658144]\n",
      "\t(No symbol) [0x007DB27D]\n",
      "\t(No symbol) [0x007D8208]\n",
      "\t(No symbol) [0x007D83A9]\n",
      "\t(No symbol) [0x007CAAC0]\n",
      "\tBaseThreadInitThunk [0x76647BA9+25]\n",
      "\tRtlInitializeExceptionChain [0x773FC2EB+107]\n",
      "\tRtlClearBits [0x773FC26F+191]\n",
      "\n"
     ]
    },
    {
     "name": "stderr",
     "output_type": "stream",
     "text": [
      "Traceback (most recent call last):\n",
      "  File \"C:\\Users\\archi\\boatrace-ai\\scripts\\BoatraceManager.py\", line 79, in scrape_data_by_month\n",
      "    radio.click()\n",
      "  File \"C:\\Users\\archi\\anaconda3\\envs\\boatrace\\Lib\\site-packages\\selenium\\webdriver\\remote\\webelement.py\", line 94, in click\n",
      "    self._execute(Command.CLICK_ELEMENT)\n",
      "  File \"C:\\Users\\archi\\anaconda3\\envs\\boatrace\\Lib\\site-packages\\selenium\\webdriver\\remote\\webelement.py\", line 395, in _execute\n",
      "    return self._parent.execute(command, params)\n",
      "           ^^^^^^^^^^^^^^^^^^^^^^^^^^^^^^^^^^^^^\n",
      "  File \"C:\\Users\\archi\\anaconda3\\envs\\boatrace\\Lib\\site-packages\\selenium\\webdriver\\remote\\webdriver.py\", line 354, in execute\n",
      "    self.error_handler.check_response(response)\n",
      "  File \"C:\\Users\\archi\\anaconda3\\envs\\boatrace\\Lib\\site-packages\\selenium\\webdriver\\remote\\errorhandler.py\", line 229, in check_response\n",
      "    raise exception_class(message, screen, stacktrace)\n",
      "selenium.common.exceptions.NoSuchWindowException: Message: no such window: target window already closed\n",
      "from unknown error: web view not found\n",
      "  (Session info: chrome=134.0.6998.167)\n",
      "Stacktrace:\n",
      "\tGetHandleVerifier [0x0084C7F3+24435]\n",
      "\t(No symbol) [0x007D2074]\n",
      "\t(No symbol) [0x006A06E3]\n",
      "\t(No symbol) [0x0067F83E]\n",
      "\t(No symbol) [0x0071455E]\n",
      "\t(No symbol) [0x0072EB19]\n",
      "\t(No symbol) [0x0070D5B6]\n",
      "\t(No symbol) [0x006DC54F]\n",
      "\t(No symbol) [0x006DD894]\n",
      "\tGetHandleVerifier [0x00B570A3+3213347]\n",
      "\tGetHandleVerifier [0x00B6B0C9+3295305]\n",
      "\tGetHandleVerifier [0x00B6558C+3271948]\n",
      "\tGetHandleVerifier [0x008E7360+658144]\n",
      "\t(No symbol) [0x007DB27D]\n",
      "\t(No symbol) [0x007D8208]\n",
      "\t(No symbol) [0x007D83A9]\n",
      "\t(No symbol) [0x007CAAC0]\n",
      "\tBaseThreadInitThunk [0x76647BA9+25]\n",
      "\tRtlInitializeExceptionChain [0x773FC2EB+107]\n",
      "\tRtlClearBits [0x773FC26F+191]\n",
      "\n"
     ]
    }
   ],
   "source": [
    "from BoatraceManager import BoatraceManager\n",
    "manager=BoatraceManager()\n",
    "manager.scrape_data_by_month(months=1)"
   ]
  },
  {
   "cell_type": "code",
   "execution_count": null,
   "id": "55feba22-c112-4713-9c69-5ad8e2fd3581",
   "metadata": {},
   "outputs": [],
   "source": []
  }
 ],
 "metadata": {
  "kernelspec": {
   "display_name": "Python 3 (ipykernel)",
   "language": "python",
   "name": "python3"
  },
  "language_info": {
   "codemirror_mode": {
    "name": "ipython",
    "version": 3
   },
   "file_extension": ".py",
   "mimetype": "text/x-python",
   "name": "python",
   "nbconvert_exporter": "python",
   "pygments_lexer": "ipython3",
   "version": "3.12.9"
  }
 },
 "nbformat": 4,
 "nbformat_minor": 5
}
