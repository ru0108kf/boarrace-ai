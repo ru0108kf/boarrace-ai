{
 "cells": [
  {
   "cell_type": "markdown",
   "id": "c55e6b84",
   "metadata": {},
   "source": [
    "# 競艇予想AI"
   ]
  },
  {
   "cell_type": "markdown",
   "id": "287cb7c2",
   "metadata": {},
   "source": [
    "### pipとかは自分でしてね"
   ]
  },
  {
   "cell_type": "code",
   "execution_count": 2,
   "id": "d7048033",
   "metadata": {},
   "outputs": [],
   "source": [
    "from machinelarning import BoatraceML\n",
    "import os\n",
    "from datetime import datetime, timedelta\n",
    "from base import BoatraceBase\n",
    "from scraper import BoatraceScraper\n",
    "from analyzer import BoatraceAnalyzer\n",
    "import joblib"
   ]
  },
  {
   "cell_type": "code",
   "execution_count": 3,
   "id": "b1e82604",
   "metadata": {},
   "outputs": [],
   "source": [
    "# 自分のパスを通す\n",
    "folder = \"C:\\\\Users\\\\msy-t\\\\boatrace-ai\""
   ]
  },
  {
   "cell_type": "code",
   "execution_count": 4,
   "id": "21c589b5",
   "metadata": {},
   "outputs": [
    {
     "name": "stdout",
     "output_type": "stream",
     "text": [
      "スクレイピング開始: 2025-04-23 ～ 2025-04-23\n",
      "スクレイピング完了\n",
      "解凍処理開始\n",
      "解凍処理完了\n",
      "番組表テキストの解析（B方式）開始\n",
      "B番組表CSV変換完了\n",
      "全処理完了\n"
     ]
    }
   ],
   "source": [
    "today_date = datetime.now().strftime('%Y-%m-%d')\n",
    "today_datetime = datetime.strptime(today_date, '%Y-%m-%d')\n",
    "yesterday = (today_datetime - timedelta(days=1)).strftime('%Y-%m-%d')\n",
    "\n",
    "scraperK = BoatraceScraper(folder+\"\\\\data\", BorK=\"K\")\n",
    "current_date = scraperK.find_current_dates(date=yesterday,BorK=\"K\")\n",
    "if current_date!=None:\n",
    "    if current_date==today_date:\n",
    "        scraperK.scrape_and_process_data(start_date=yesterday,end_date=yesterday)\n",
    "        scraperK.scrape_and_process_data(start_date=current_date,end_date=yesterday)\n",
    "\n",
    "scraperB = BoatraceScraper(folder+\"\\\\data\", BorK=\"B\")\n",
    "current_date = scraperB.find_current_dates(date=today_date,BorK=\"B\")\n",
    "if current_date!=None:\n",
    "    if current_date==today_date:\n",
    "        scraperB.scrape_and_process_data(start_date=today_date,end_date=today_date)\n",
    "    else:\n",
    "        scraperB.scrape_and_process_data(start_date=current_date,end_date=today_date)"
   ]
  },
  {
   "cell_type": "code",
   "execution_count": 6,
   "id": "e4db46e3",
   "metadata": {},
   "outputs": [],
   "source": [
    "boatrace_ml = BoatraceML(folder+\"\\\\data\")\n",
    "#test_df,model_one,model_defeat_one,model_twos,mean,std,columns = boatrace_ml.run_pipeline()    \n",
    "\n",
    "# モデルを保存する\n",
    "#test_df.to_csv(\"folder+\"\\\\data\\\\agg_results\\\\test_df.csv\", index=False, encoding=\"shift_jis\")\n",
    "#os.makedirs('saved_models', exist_ok=True)\n",
    "#joblib.dump(model_one, folder+'\\\\saved_models\\\\model_one.joblib')\n",
    "#joblib.dump(model_defeat_one,folder+'\\\\saved_models\\\\model_defeat_one.joblib')\n",
    "#joblib.dump(model_twos, folder+'\\\\saved_models\\\\model_twos_dict.pkl')\n",
    "#joblib.dump({'mean': mean, 'std': std}, folder+'\\\\saved_models\\\\scaling_params.pkl')\n",
    "#joblib.dump(columns, folder+'\\\\saved_models\\\\feature_columns.pkl') \n",
    "\n",
    "# テスト\n",
    "#boatrace_ml.run_pipeline_ellipsis()\n",
    "\n",
    "# モデルの読み込み\n",
    "model_one = joblib.load(folder+'\\\\saved_models\\\\model_one.joblib')\n",
    "model_defeat_one = joblib.load(folder+'\\\\saved_models\\\\model_defeat_one.joblib')\n",
    "model_twos = joblib.load(folder+'\\\\saved_models\\\\model_twos_dict.pkl')\n",
    "scaling_params = joblib.load(folder+'\\\\saved_models\\\\scaling_params.pkl')\n",
    "mean = scaling_params['mean']\n",
    "std = scaling_params['std']\n",
    "columns = joblib.load(folder+'\\\\saved_models\\\\feature_columns.pkl')"
   ]
  },
  {
   "cell_type": "code",
   "execution_count": 9,
   "id": "3674b1f0",
   "metadata": {},
   "outputs": [
    {
     "name": "stdout",
     "output_type": "stream",
     "text": [
      "注意: 信頼度が閾値を下回っていますが、予測を続行します\n",
      "2025-04-22 津 3R: 予測 2-5-1, 2-1-5, 1-2-5, 1-5-2, 5-1-2, 1-2-3 戦術 top3_darkhorse 予測確率:32.36% 39.30% 13.02% 6.72% 7.78% 0.82% -46.47%\n"
     ]
    }
   ],
   "source": [
    "input_str = input(\"展示タイムを入力(スペースで区切る): \")#例　6.86  6.92  6.85  6.81  6.93  6.84\n",
    "numbers = list(map(float, input_str.split()))\n",
    "Exhibition_time = {1: numbers[0],2: numbers[1],3: numbers[2],4: numbers[3],5: numbers[4],6: numbers[5]}\n",
    "# かけたいレース情報\n",
    "target_date = \"2025-04-22\"\n",
    "place='津'\n",
    "race_no=3\n",
    "\n",
    "boatrace_ml.run_pipeline_jissen(model_one,model_defeat_one,model_twos,mean,std,columns,target_date, place, race_no, Exhibition_time=Exhibition_time)"
   ]
  }
 ],
 "metadata": {
  "kernelspec": {
   "display_name": "base",
   "language": "python",
   "name": "python3"
  },
  "language_info": {
   "codemirror_mode": {
    "name": "ipython",
    "version": 3
   },
   "file_extension": ".py",
   "mimetype": "text/x-python",
   "name": "python",
   "nbconvert_exporter": "python",
   "pygments_lexer": "ipython3",
   "version": "3.12.7"
  }
 },
 "nbformat": 4,
 "nbformat_minor": 5
}
